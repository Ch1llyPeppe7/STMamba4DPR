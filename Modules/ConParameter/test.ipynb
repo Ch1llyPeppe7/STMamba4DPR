{
 "cells": [
  {
   "cell_type": "code",
   "execution_count": 2,
   "metadata": {},
   "outputs": [
    {
     "name": "stdout",
     "output_type": "stream",
     "text": [
      "tensor(10000.0010)\n"
     ]
    }
   ],
   "source": [
    "import torch\n",
    "print(torch.exp(torch.log(torch.tensor(10000))))"
   ]
  }
 ],
 "metadata": {
  "kernelspec": {
   "display_name": "mamba4rec",
   "language": "python",
   "name": "python3"
  },
  "language_info": {
   "codemirror_mode": {
    "name": "ipython",
    "version": 3
   },
   "file_extension": ".py",
   "mimetype": "text/x-python",
   "name": "python",
   "nbconvert_exporter": "python",
   "pygments_lexer": "ipython3",
   "version": "3.8.18"
  }
 },
 "nbformat": 4,
 "nbformat_minor": 2
}
